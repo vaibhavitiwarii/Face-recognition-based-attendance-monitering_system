{
 "cells": [
  {
   "cell_type": "code",
   "execution_count": 1,
   "metadata": {},
   "outputs": [],
   "source": [
    "import gspread\n",
    "from oauth2client.service_account import ServiceAccountCredentials"
   ]
  },
  {
   "cell_type": "code",
   "execution_count": 2,
   "metadata": {},
   "outputs": [],
   "source": [
    "scope = [\"https://spreadsheets.google.com/feeds\",'https://www.googleapis.com/auth/spreadsheets',\"https://www.googleapis.com/auth/drive.file\",\"https://www.googleapis.com/auth/drive\"]\n",
    "credentials=ServiceAccountCredentials.from_json_keyfile_name('Attendance-72970c144e04.json',scope)\n",
    "client=gspread.authorize(credentials)"
   ]
  },
  {
   "cell_type": "code",
   "execution_count": 3,
   "metadata": {},
   "outputs": [],
   "source": [
    "# Jan=client.open(\"Attendance System\").get_worksheet(0)\n",
    "# Feb=client.open(\"Attendance System\").get_worksheet(1)\n",
    "# Mar=client.open(\"Attendance System\").get_worksheet(2)\n",
    "# Apr=client.open(\"Attendance System\").get_worksheet(3)\n",
    "# May=client.open(\"Attendance System\").get_worksheet(4)\n",
    "# Jun=client.open(\"Attendance System\").get_worksheet(5)\n",
    "# Jul=client.open(\"Attendance System\").get_worksheet(6)\n",
    "# Aug=client.open(\"Attendance System\").get_worksheet(7)\n",
    "# Sep=client.open(\"Attendance System\").get_worksheet(8)\n",
    "# Oct=client.open(\"Attendance System\").get_worksheet(9)\n",
    "# Nov=client.open(\"Attendance System\").get_worksheet(10)\n",
    "# Dec=client.open(\"Attendance System\").get_worksheet(11)"
   ]
  },
  {
   "cell_type": "code",
   "execution_count": 4,
   "metadata": {
    "scrolled": true
   },
   "outputs": [
    {
     "data": {
      "text/plain": [
       "{'spreadsheetId': '1s_vE42nDy9Sy1W6WsojfwkeMT_8hYMpf6tOK3micUSI',\n",
       " 'updatedRange': 'Dec!C11',\n",
       " 'updatedRows': 1,\n",
       " 'updatedColumns': 1,\n",
       " 'updatedCells': 1}"
      ]
     },
     "execution_count": 4,
     "metadata": {},
     "output_type": "execute_result"
    }
   ],
   "source": [
    "Dec.update_cell(11,3,'Maiti')"
   ]
  },
  {
   "cell_type": "code",
   "execution_count": 6,
   "metadata": {},
   "outputs": [],
   "source": [
    "import datetime\n",
    "import time"
   ]
  },
  {
   "cell_type": "code",
   "execution_count": 5,
   "metadata": {},
   "outputs": [],
   "source": [
    "user='Sourav'"
   ]
  },
  {
   "cell_type": "code",
   "execution_count": 13,
   "metadata": {},
   "outputs": [],
   "source": [
    "# date_time=datetime.datetime.now().isoformat()\n",
    "emp_name=sheet.col_values(2).index(user) + 1\n",
    "# sheet_no=int(date_time[5:7])-1\n",
    "# in_time=(int(date_time[8:10]))*2+1\n",
    "# sheet=client.open(\"Attendance System\").get_worksheet(sheet_no)\n",
    "# sheet.update_cell(emp_name,out_time,datetime.datetime.now().isoformat()[11:])"
   ]
  },
  {
   "cell_type": "code",
   "execution_count": 14,
   "metadata": {},
   "outputs": [
    {
     "data": {
      "text/plain": [
       "10"
      ]
     },
     "execution_count": 14,
     "metadata": {},
     "output_type": "execute_result"
    }
   ],
   "source": [
    "emp_name"
   ]
  },
  {
   "cell_type": "code",
   "execution_count": 15,
   "metadata": {},
   "outputs": [],
   "source": [
    "date_time=datetime.datetime.now().isoformat()"
   ]
  },
  {
   "cell_type": "code",
   "execution_count": 16,
   "metadata": {},
   "outputs": [],
   "source": [
    "sheet_no=int(date_time[5:7])-1"
   ]
  },
  {
   "cell_type": "code",
   "execution_count": 17,
   "metadata": {},
   "outputs": [],
   "source": [
    "in_time=(int(date_time[8:10]))*2+1"
   ]
  },
  {
   "cell_type": "code",
   "execution_count": 76,
   "metadata": {},
   "outputs": [],
   "source": [
    "out_time=(int(date_time[8:10]))*2+2"
   ]
  },
  {
   "cell_type": "code",
   "execution_count": 70,
   "metadata": {},
   "outputs": [
    {
     "data": {
      "text/plain": [
       "45"
      ]
     },
     "execution_count": 70,
     "metadata": {},
     "output_type": "execute_result"
    }
   ],
   "source": [
    "col_no"
   ]
  },
  {
   "cell_type": "code",
   "execution_count": 18,
   "metadata": {},
   "outputs": [],
   "source": [
    "sheet=client.open(\"Attendance System\").get_worksheet(sheet_no)"
   ]
  },
  {
   "cell_type": "code",
   "execution_count": 64,
   "metadata": {},
   "outputs": [
    {
     "data": {
      "text/plain": [
       "'01:09:10.628279'"
      ]
     },
     "execution_count": 64,
     "metadata": {},
     "output_type": "execute_result"
    }
   ],
   "source": [
    "date_time[11:]"
   ]
  },
  {
   "cell_type": "code",
   "execution_count": 19,
   "metadata": {
    "scrolled": true
   },
   "outputs": [
    {
     "data": {
      "text/plain": [
       "{'spreadsheetId': '1s_vE42nDy9Sy1W6WsojfwkeMT_8hYMpf6tOK3micUSI',\n",
       " 'updatedRange': 'Jul!AU10',\n",
       " 'updatedRows': 1,\n",
       " 'updatedColumns': 1,\n",
       " 'updatedCells': 1}"
      ]
     },
     "execution_count": 19,
     "metadata": {},
     "output_type": "execute_result"
    }
   ],
   "source": [
    "sheet.update_cell(emp_name,in_time,datetime.datetime.now().isoformat()[11:])"
   ]
  },
  {
   "cell_type": "code",
   "execution_count": 87,
   "metadata": {},
   "outputs": [],
   "source": [
    "emp_id=sheet.col_values(1).index('M002') + 1"
   ]
  },
  {
   "cell_type": "code",
   "execution_count": 1,
   "metadata": {
    "scrolled": true
   },
   "outputs": [
    {
     "name": "stdout",
     "output_type": "stream",
     "text": [
      "Say something!\n"
     ]
    },
    {
     "ename": "KeyboardInterrupt",
     "evalue": "",
     "output_type": "error",
     "traceback": [
      "\u001b[1;31m---------------------------------------------------------------------------\u001b[0m",
      "\u001b[1;31mKeyboardInterrupt\u001b[0m                         Traceback (most recent call last)",
      "\u001b[1;32m<ipython-input-1-2f77316ba3dc>\u001b[0m in \u001b[0;36m<module>\u001b[1;34m\u001b[0m\n\u001b[0;32m     72\u001b[0m \u001b[1;33m\u001b[0m\u001b[0m\n\u001b[0;32m     73\u001b[0m \u001b[0mspeak\u001b[0m\u001b[1;33m(\u001b[0m\u001b[1;34m\"Welcome, to Me Phi. How may I help you?\"\u001b[0m\u001b[1;33m)\u001b[0m\u001b[1;33m\u001b[0m\u001b[0m\n\u001b[1;32m---> 74\u001b[1;33m \u001b[0mWord\u001b[0m \u001b[1;33m=\u001b[0m \u001b[0mrecognize\u001b[0m\u001b[1;33m(\u001b[0m\u001b[1;33m)\u001b[0m\u001b[1;33m\u001b[0m\u001b[0m\n\u001b[0m\u001b[0;32m     75\u001b[0m \u001b[0mspeak\u001b[0m\u001b[1;33m(\u001b[0m\u001b[1;34m\"you said\"\u001b[0m\u001b[1;33m+\u001b[0m\u001b[0mWord\u001b[0m\u001b[1;33m)\u001b[0m\u001b[1;33m\u001b[0m\u001b[0m\n\u001b[0;32m     76\u001b[0m \u001b[1;33m\u001b[0m\u001b[0m\n",
      "\u001b[1;32m<ipython-input-1-2f77316ba3dc>\u001b[0m in \u001b[0;36mrecognize\u001b[1;34m()\u001b[0m\n\u001b[0;32m     18\u001b[0m     \u001b[1;32mwith\u001b[0m \u001b[0msr\u001b[0m\u001b[1;33m.\u001b[0m\u001b[0mMicrophone\u001b[0m\u001b[1;33m(\u001b[0m\u001b[1;33m)\u001b[0m \u001b[1;32mas\u001b[0m \u001b[0msource\u001b[0m\u001b[1;33m:\u001b[0m\u001b[1;33m\u001b[0m\u001b[0m\n\u001b[0;32m     19\u001b[0m         \u001b[0mprint\u001b[0m\u001b[1;33m(\u001b[0m\u001b[1;34m\"Say something!\"\u001b[0m\u001b[1;33m)\u001b[0m\u001b[1;33m\u001b[0m\u001b[0m\n\u001b[1;32m---> 20\u001b[1;33m         \u001b[0maudio\u001b[0m \u001b[1;33m=\u001b[0m \u001b[0mr\u001b[0m\u001b[1;33m.\u001b[0m\u001b[0mlisten\u001b[0m\u001b[1;33m(\u001b[0m\u001b[0msource\u001b[0m\u001b[1;33m)\u001b[0m\u001b[1;33m\u001b[0m\u001b[0m\n\u001b[0m\u001b[0;32m     21\u001b[0m     \u001b[1;32mtry\u001b[0m\u001b[1;33m:\u001b[0m\u001b[1;33m\u001b[0m\u001b[0m\n\u001b[0;32m     22\u001b[0m         \u001b[0mrecognizedAudio\u001b[0m \u001b[1;33m=\u001b[0m  \u001b[0mr\u001b[0m\u001b[1;33m.\u001b[0m\u001b[0mrecognize_google\u001b[0m\u001b[1;33m(\u001b[0m\u001b[0maudio\u001b[0m\u001b[1;33m)\u001b[0m\u001b[1;33m\u001b[0m\u001b[0m\n",
      "\u001b[1;32m~\\Anaconda3\\lib\\site-packages\\speech_recognition\\__init__.py\u001b[0m in \u001b[0;36mlisten\u001b[1;34m(self, source, timeout, phrase_time_limit, snowboy_configuration)\u001b[0m\n\u001b[0;32m    650\u001b[0m                     \u001b[1;32mbreak\u001b[0m\u001b[1;33m\u001b[0m\u001b[0m\n\u001b[0;32m    651\u001b[0m \u001b[1;33m\u001b[0m\u001b[0m\n\u001b[1;32m--> 652\u001b[1;33m                 \u001b[0mbuffer\u001b[0m \u001b[1;33m=\u001b[0m \u001b[0msource\u001b[0m\u001b[1;33m.\u001b[0m\u001b[0mstream\u001b[0m\u001b[1;33m.\u001b[0m\u001b[0mread\u001b[0m\u001b[1;33m(\u001b[0m\u001b[0msource\u001b[0m\u001b[1;33m.\u001b[0m\u001b[0mCHUNK\u001b[0m\u001b[1;33m)\u001b[0m\u001b[1;33m\u001b[0m\u001b[0m\n\u001b[0m\u001b[0;32m    653\u001b[0m                 \u001b[1;32mif\u001b[0m \u001b[0mlen\u001b[0m\u001b[1;33m(\u001b[0m\u001b[0mbuffer\u001b[0m\u001b[1;33m)\u001b[0m \u001b[1;33m==\u001b[0m \u001b[1;36m0\u001b[0m\u001b[1;33m:\u001b[0m \u001b[1;32mbreak\u001b[0m  \u001b[1;31m# reached end of the stream\u001b[0m\u001b[1;33m\u001b[0m\u001b[0m\n\u001b[0;32m    654\u001b[0m                 \u001b[0mframes\u001b[0m\u001b[1;33m.\u001b[0m\u001b[0mappend\u001b[0m\u001b[1;33m(\u001b[0m\u001b[0mbuffer\u001b[0m\u001b[1;33m)\u001b[0m\u001b[1;33m\u001b[0m\u001b[0m\n",
      "\u001b[1;32m~\\Anaconda3\\lib\\site-packages\\speech_recognition\\__init__.py\u001b[0m in \u001b[0;36mread\u001b[1;34m(self, size)\u001b[0m\n\u001b[0;32m    159\u001b[0m \u001b[1;33m\u001b[0m\u001b[0m\n\u001b[0;32m    160\u001b[0m         \u001b[1;32mdef\u001b[0m \u001b[0mread\u001b[0m\u001b[1;33m(\u001b[0m\u001b[0mself\u001b[0m\u001b[1;33m,\u001b[0m \u001b[0msize\u001b[0m\u001b[1;33m)\u001b[0m\u001b[1;33m:\u001b[0m\u001b[1;33m\u001b[0m\u001b[0m\n\u001b[1;32m--> 161\u001b[1;33m             \u001b[1;32mreturn\u001b[0m \u001b[0mself\u001b[0m\u001b[1;33m.\u001b[0m\u001b[0mpyaudio_stream\u001b[0m\u001b[1;33m.\u001b[0m\u001b[0mread\u001b[0m\u001b[1;33m(\u001b[0m\u001b[0msize\u001b[0m\u001b[1;33m,\u001b[0m \u001b[0mexception_on_overflow\u001b[0m\u001b[1;33m=\u001b[0m\u001b[1;32mFalse\u001b[0m\u001b[1;33m)\u001b[0m\u001b[1;33m\u001b[0m\u001b[0m\n\u001b[0m\u001b[0;32m    162\u001b[0m \u001b[1;33m\u001b[0m\u001b[0m\n\u001b[0;32m    163\u001b[0m         \u001b[1;32mdef\u001b[0m \u001b[0mclose\u001b[0m\u001b[1;33m(\u001b[0m\u001b[0mself\u001b[0m\u001b[1;33m)\u001b[0m\u001b[1;33m:\u001b[0m\u001b[1;33m\u001b[0m\u001b[0m\n",
      "\u001b[1;32m~\\Anaconda3\\lib\\site-packages\\pyaudio.py\u001b[0m in \u001b[0;36mread\u001b[1;34m(self, num_frames, exception_on_overflow)\u001b[0m\n\u001b[0;32m    606\u001b[0m                           paCanNotReadFromAnOutputOnlyStream)\n\u001b[0;32m    607\u001b[0m \u001b[1;33m\u001b[0m\u001b[0m\n\u001b[1;32m--> 608\u001b[1;33m         \u001b[1;32mreturn\u001b[0m \u001b[0mpa\u001b[0m\u001b[1;33m.\u001b[0m\u001b[0mread_stream\u001b[0m\u001b[1;33m(\u001b[0m\u001b[0mself\u001b[0m\u001b[1;33m.\u001b[0m\u001b[0m_stream\u001b[0m\u001b[1;33m,\u001b[0m \u001b[0mnum_frames\u001b[0m\u001b[1;33m,\u001b[0m \u001b[0mexception_on_overflow\u001b[0m\u001b[1;33m)\u001b[0m\u001b[1;33m\u001b[0m\u001b[0m\n\u001b[0m\u001b[0;32m    609\u001b[0m \u001b[1;33m\u001b[0m\u001b[0m\n\u001b[0;32m    610\u001b[0m     \u001b[1;32mdef\u001b[0m \u001b[0mget_read_available\u001b[0m\u001b[1;33m(\u001b[0m\u001b[0mself\u001b[0m\u001b[1;33m)\u001b[0m\u001b[1;33m:\u001b[0m\u001b[1;33m\u001b[0m\u001b[0m\n",
      "\u001b[1;31mKeyboardInterrupt\u001b[0m: "
     ]
    }
   ],
   "source": [
    "import speech_recognition as sr\n",
    "import pyttsx3\n",
    "import smtplib \n",
    "from email.mime.multipart import MIMEMultipart \n",
    "from email.mime.text import MIMEText \n",
    "from email.mime.base import MIMEBase \n",
    "from email import encoders \n",
    "\n",
    "# Change these according to your credentials\n",
    "fromaddr =  \"mishtudeep.@gmail.com\"\n",
    "toaddr   =  \"shreedeep.g@mefy.care\" \n",
    "passwd   =  \"Sreeshree123#\"\n",
    "\n",
    "##################################### VOICE RECOGNITION #########################################\n",
    "\n",
    "def recognize():\n",
    "    r = sr.Recognizer()\n",
    "    with sr.Microphone() as source:\n",
    "        print(\"Say something!\")\n",
    "        audio = r.listen(source)\n",
    "    try:\n",
    "        recognizedAudio =  r.recognize_google(audio)\n",
    "        print(\"You said : \" + recognizedAudio)\n",
    "        \n",
    "    except sr.UnknownValueError:\n",
    "        print(\"Google Speech Recognition could not understand audio\")\n",
    "    except sr.RequestError as e:\n",
    "        print(\"Could not request results from Google Speech Recognition service; {0}\".format(e))\n",
    "\n",
    "    return recognizedAudio\n",
    "\n",
    "####################################### VOICE PROMPT ############################################\n",
    "        \n",
    "def speak(word):\n",
    "    engine = pyttsx3.init()\n",
    "    engine.setProperty('rate', 150)    \n",
    "    engine.setProperty('volume',1.0)  \n",
    "    voices = engine.getProperty('voices')   \n",
    "    engine.setProperty('voice', voices[1].id)\n",
    "    engine.say(word)\n",
    "    engine.runAndWait()\n",
    "    engine.stop()\n",
    "\n",
    "######################################### SEND MAIL ##############################################\n",
    "\n",
    "def sendMail():\n",
    "    \n",
    "    msg = MIMEMultipart()  \n",
    "    msg['From'] = fromaddr \n",
    "    msg['To'] = toaddr \n",
    "    msg['Subject'] = \"Mail test from Python end.\"\n",
    "    body = \"Hi, I am from MeFy. I am being tested by my creator.\" \n",
    "    msg.attach(MIMEText(body, 'plain')) \n",
    "    filename = \"MeFy1.jpg\"\t\t\t\t\t\t\t\t  # Provide the file name\n",
    "    attachment = open(\"C:\\\\Users\\\\SREEDEEP\\\\Documents\\\\face\\\\Mail sender\\\\MeFy1.jpg\", \"rb\")    # Provide the complete address to the file within \" \"\n",
    "    p = MIMEBase('application', 'octet-stream') \n",
    "    p.set_payload((attachment).read()) \n",
    "    encoders.encode_base64(p) \n",
    "    p.add_header('Content-Disposition', \"attachment; filename= %s\" % filename)  \n",
    "    msg.attach(p) \n",
    "    s = smtplib.SMTP('smtp.gmail.com', port=587, timeout=25) \n",
    "    s.starttls() \n",
    "    s.login(fromaddr, passwd) \n",
    "    text = msg.as_string() \n",
    "    s.sendmail(fromaddr, toaddr, text) \n",
    "    s.quit()\n",
    "\n",
    "###################################################################################################\n",
    "\n",
    "\n",
    "#~~~~~~~~~~~ EXECUTION BEGINS FROM HERE ~~~~~~~~~~~#\n",
    "\n",
    "speak(\"Welcome, to Me Phi. How may I help you?\")\n",
    "Word = recognize()\n",
    "speak(\"you said\"+Word)\n",
    "\n",
    "\n",
    "# if (Word == \"please send an email\"):\n",
    "#     speak(\"Confirm sending email by saying yes or no\")\n",
    "#     print (\"Speak now!\")\n",
    "#     Word = recognize()\n",
    "\n",
    "#     if (Word == \"yes\"):\n",
    "#         speak(\"you said \"+Word)\n",
    "#         speak(\"sending email\")\n",
    "#         sendMail()\n",
    "#         speak(\"email sent successfully\")\n",
    "\n",
    "#     elif (Word == \"no\"):\n",
    "#         speak(\"you said \"+Word)\n",
    "#         speak(\"cancelled sending email\")\n",
    "\n",
    "# else:\n",
    "#     speak(\"Sorry, I have limited abilities now. So, I did not get you.\")\n",
    "#     print(\" Format didn't match.\\n Couldn't send e-mail.\\n Please try again....\")\n"
   ]
  },
  {
   "cell_type": "code",
   "execution_count": null,
   "metadata": {},
   "outputs": [
    {
     "name": "stdout",
     "output_type": "stream",
     "text": [
      "Say something!\n",
      "You said : hello good morning\n"
     ]
    }
   ],
   "source": [
    "import speech_recognition as sr\n",
    "import pyttsx3\n",
    "import smtplib \n",
    "from email.mime.multipart import MIMEMultipart \n",
    "from email.mime.text import MIMEText \n",
    "from email.mime.base import MIMEBase \n",
    "from email import encoders \n",
    "\n",
    "# Change these according to your credentials\n",
    "fromaddr =  \"mishtudeep.@gmail.com\"\n",
    "toaddr   =  \"shreedeep.g@mefy.care\" \n",
    "passwd   =  \"Sreeshree123#\"\n",
    "\n",
    "##################################### VOICE RECOGNITION #########################################\n",
    "\n",
    "def recognize():\n",
    "    r = sr.Recognizer()\n",
    "    with sr.Microphone() as source:\n",
    "        print(\"Say something!\")\n",
    "        audio = r.listen(source)\n",
    "    try:\n",
    "        recognizedAudio =  r.recognize_google(audio)\n",
    "        print(\"You said : \" + recognizedAudio)\n",
    "        \n",
    "    except sr.UnknownValueError:\n",
    "        print(\"Google Speech Recognition could not understand audio\")\n",
    "    except sr.RequestError as e:\n",
    "        print(\"Could not request results from Google Speech Recognition service; {0}\".format(e))\n",
    "\n",
    "    return recognizedAudio\n",
    "\n",
    "####################################### VOICE PROMPT ############################################\n",
    "        \n",
    "def speak(word):\n",
    "    engine = pyttsx3.init()\n",
    "    engine.setProperty('rate', 150)    \n",
    "    engine.setProperty('volume',1.0)  \n",
    "    voices = engine.getProperty('voices')   \n",
    "    engine.setProperty('voice', voices[1].id)\n",
    "    engine.say(word)\n",
    "    engine.runAndWait()\n",
    "    engine.stop()\n",
    "\n",
    "######################################### SEND MAIL ##############################################\n",
    "\n",
    "def sendMail():\n",
    "    \n",
    "    msg = MIMEMultipart()  \n",
    "    msg['From'] = fromaddr \n",
    "    msg['To'] = toaddr \n",
    "    msg['Subject'] = \"Mail test from Python end.\"\n",
    "    body = \"Hi, I am from MeFy. I am being tested by my creator.\" \n",
    "    msg.attach(MIMEText(body, 'plain')) \n",
    "    filename = \"MeFy1.jpg\"\t\t\t\t\t\t\t\t  # Provide the file name\n",
    "    attachment = open(\"C:\\\\Users\\\\SREEDEEP\\\\Documents\\\\face\\\\Mail sender\\\\MeFy1.jpg\", \"rb\")    # Provide the complete address to the file within \" \"\n",
    "    p = MIMEBase('application', 'octet-stream') \n",
    "    p.set_payload((attachment).read()) \n",
    "    encoders.encode_base64(p) \n",
    "    p.add_header('Content-Disposition', \"attachment; filename= %s\" % filename)  \n",
    "    msg.attach(p) \n",
    "    s = smtplib.SMTP('smtp.gmail.com', port=587, timeout=25) \n",
    "    s.starttls() \n",
    "    s.login(fromaddr, passwd) \n",
    "    text = msg.as_string() \n",
    "    s.sendmail(fromaddr, toaddr, text) \n",
    "    s.quit()\n",
    "\n",
    "###################################################################################################\n",
    "\n",
    "\n",
    "#~~~~~~~~~~~ EXECUTION BEGINS FROM HERE ~~~~~~~~~~~#\n",
    "\n",
    "speak(\"Welcome, to Me Phi. How may I help you?\")\n",
    "Word = recognize()\n",
    "speak(\"you said\"+Word)\n",
    "\n",
    "\n",
    "# if (Word == \"please send an email\"):\n",
    "#     speak(\"Confirm sending email by saying yes or no\")\n",
    "#     print (\"Speak now!\")\n",
    "#     Word = recognize()\n",
    "\n",
    "#     if (Word == \"yes\"):\n",
    "#         speak(\"you said \"+Word)\n",
    "#         speak(\"sending email\")\n",
    "#         sendMail()\n",
    "#         speak(\"email sent successfully\")\n",
    "\n",
    "#     elif (Word == \"no\"):\n",
    "#         speak(\"you said \"+Word)\n",
    "#         speak(\"cancelled sending email\")\n",
    "\n",
    "# else:\n",
    "#     speak(\"Sorry, I have limited abilities now. So, I did not get you.\")\n",
    "#     print(\" Format didn't match.\\n Couldn't send e-mail.\\n Please try again....\")\n"
   ]
  },
  {
   "cell_type": "code",
   "execution_count": 3,
   "metadata": {},
   "outputs": [
    {
     "name": "stdout",
     "output_type": "stream",
     "text": [
      "[1, 2, 3, 4, 5, 6]\n"
     ]
    }
   ],
   "source": [
    "import boto3\n",
    "import pickle\n",
    "#Connect to S3\n",
    "s3 = boto3.client('s3')\n",
    "#Read the object stored in key 'myList001'\n",
    "object = s3.get_object(Bucket='maitibucket',Key='myList001')\n",
    "serializedObject = object['Body'].read()\n",
    "#Deserialize the retrieved object\n",
    "myList = pickle.loads(serializedObject)\n",
    "print (myList)"
   ]
  },
  {
   "cell_type": "code",
   "execution_count": null,
   "metadata": {},
   "outputs": [],
   "source": []
  }
 ],
 "metadata": {
  "kernelspec": {
   "display_name": "Python 3",
   "language": "python",
   "name": "python3"
  },
  "language_info": {
   "codemirror_mode": {
    "name": "ipython",
    "version": 3
   },
   "file_extension": ".py",
   "mimetype": "text/x-python",
   "name": "python",
   "nbconvert_exporter": "python",
   "pygments_lexer": "ipython3",
   "version": "3.6.5"
  }
 },
 "nbformat": 4,
 "nbformat_minor": 2
}
