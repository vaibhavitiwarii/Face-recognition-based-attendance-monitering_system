{
 "cells": [
  {
   "cell_type": "code",
   "execution_count": null,
   "metadata": {},
   "outputs": [],
   "source": [
    "import tkinter"
   ]
  },
  {
   "cell_type": "code",
   "execution_count": null,
   "metadata": {},
   "outputs": [],
   "source": [
    "from tkinter import *"
   ]
  },
  {
   "cell_type": "code",
   "execution_count": null,
   "metadata": {},
   "outputs": [],
   "source": [
    "from tkinter import messagebox"
   ]
  },
  {
   "cell_type": "code",
   "execution_count": null,
   "metadata": {},
   "outputs": [],
   "source": [
    "# top=tkinter.Tk()\n",
    "# def buttonFunction():\n",
    "#     msg=messagebox.showinfo(\"Welcome\",\"Hello Maiti\")\n",
    "# button1=Button(top,text=\"Say Hello\",command=buttonFunction)\n",
    "# button1.place(x=50,y=50)\n",
    "# top.mainloop()"
   ]
  },
  {
   "cell_type": "code",
   "execution_count": 3,
   "metadata": {},
   "outputs": [],
   "source": [
    "import tkinter\n",
    "from tkinter import *\n",
    "window=Tk()\n",
    "window.title(\"Face Recognition\")\n",
    "window.resizable(0,0)\n",
    "banner=tkinter.PhotoImage(file='C:/Users/Sourav/PROJECTS/Face Recognition/Face-recognition (implementation of Facenet)/facial-recognition-ibm-1440x920.gif')\n",
    "#tkinter.Label(window,image=banner) .grid(row=0,column=0,sticky=E)\n",
    "w = banner.width()\n",
    "h = banner.height()\n",
    "\n",
    "# size the window so the image will fill it\n",
    "window.geometry(\"%dx%d+50+30\" % (w, h))\n",
    "\n",
    "cv = tkinter.Canvas(width=w, height=h)\n",
    "cv.pack(side='top', fill='both', expand='yes')\n",
    "cv.create_image(0, 0, image=banner, anchor='nw')\n",
    "# add canvas text at coordinates x=15, y=20\n",
    "# anchor='nw' implies upper left corner coordinates\n",
    "cv.create_text(20, 20, text=\"Face Recognition System\",font=(\"agency fb bold\",28), fill=\"white\", anchor='nw')\n",
    "cv.create_text(20, 90, text=\"New Registration\",font=(\"agency fb bold\",22), fill=\"white\", anchor='nw')\n",
    "cv.create_text(20, 130, text=\"Enter your name:\",font=(\"agency fb bold\",14), fill=\"white\", anchor='nw')\n",
    "# now add some button widgets\n",
    "name_entry=Entry(cv, width=40,bg='white')\n",
    "name_entry.pack(side='left',padx=20,pady=160,anchor='nw')\n",
    "\n",
    "btn1 = tkinter.Button(cv, text=\"Register\",bg='#48bec5',fg='white')\n",
    "btn1.pack(anchor='nw',side='left',padx=5,pady=158)\n",
    "\n",
    "btn1 = tkinter.Button(cv, text=\"Recognise\",bg='#48bec5',fg='white')\n",
    "btn1.pack(anchor='sw',side='left',ipadx=10,ipady=10,padx=128,pady=65)\n",
    "\n",
    "window.mainloop()"
   ]
  }
 ],
 "metadata": {
  "kernelspec": {
   "display_name": "Python 3",
   "language": "python",
   "name": "python3"
  },
  "language_info": {
   "codemirror_mode": {
    "name": "ipython",
    "version": 3
   },
   "file_extension": ".py",
   "mimetype": "text/x-python",
   "name": "python",
   "nbconvert_exporter": "python",
   "pygments_lexer": "ipython3",
   "version": "3.6.5"
  }
 },
 "nbformat": 4,
 "nbformat_minor": 2
}
